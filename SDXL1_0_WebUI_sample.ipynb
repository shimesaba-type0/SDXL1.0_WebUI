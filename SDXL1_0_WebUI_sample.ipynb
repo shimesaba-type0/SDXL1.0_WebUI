{
  "nbformat": 4,
  "nbformat_minor": 0,
  "metadata": {
    "colab": {
      "provenance": [],
      "gpuType": "A100",
      "machine_shape": "hm",
      "authorship_tag": "ABX9TyMoWkanRNJofWPfmfd3qZgM",
      "include_colab_link": true
    },
    "kernelspec": {
      "name": "python3",
      "display_name": "Python 3"
    },
    "language_info": {
      "name": "python"
    },
    "accelerator": "GPU"
  },
  "cells": [
    {
      "cell_type": "markdown",
      "metadata": {
        "id": "view-in-github",
        "colab_type": "text"
      },
      "source": [
        "<a href=\"https://colab.research.google.com/github/shimesaba-type0/SDXL1.0_WebUI/blob/main/SDXL1_0_WebUI_sample.ipynb\" target=\"_parent\"><img src=\"https://colab.research.google.com/assets/colab-badge.svg\" alt=\"Open In Colab\"/></a>"
      ]
    },
    {
      "cell_type": "markdown",
      "source": [
        "## これは何？\n",
        "\n",
        "これは Stable Diffusion XL を利用する為のサンプルです\n",
        "\n",
        "## 注意点\n",
        "\n",
        "ご自由にお使いください  \n",
        "ただし、当方責任は持ちませんので自己責任でお願いします  \n",
        "\n",
        "## 使い方  \n",
        "\n",
        "- ランタイム -> ランタイムの変更 で GPU を選択して保存する\n",
        "- Step by Step で実行することを推奨する\n",
        "  - 失敗したらそのセルからやり直してください\n",
        "  - モデルのダウンロードは時間がかかります。待ちましょう\n",
        "  - モデルのダウンロードが成功すると `(OK):download completed.` と出力されます。この出力で正しくダウンロードされたか一次判定しましょう\n",
        "  - モデルのダウンロードに失敗したら、失敗したセルを再度実行させてください\n",
        "- 最後のセルを実行させたらまたしばらく待ちます\n",
        "- 出てきた URL をクリックして新しいタブまたはウィンドウが開くので、それを選択（ここで出てきたものが Stable Diffusion です）\n",
        "- 画像生成を楽しむ!\n",
        "\n",
        "Let's Enjoy!!"
      ],
      "metadata": {
        "id": "MTJuR0Geyjtj"
      }
    },
    {
      "cell_type": "code",
      "execution_count": null,
      "metadata": {
        "id": "XbCuYkQEWE_x",
        "colab": {
          "base_uri": "https://localhost:8080/"
        },
        "outputId": "e0d2cca6-9762-453b-d141-d171fba9b104"
      },
      "outputs": [
        {
          "output_type": "stream",
          "name": "stdout",
          "text": [
            "Sun Aug  6 13:54:14 2023       \n",
            "+-----------------------------------------------------------------------------+\n",
            "| NVIDIA-SMI 525.105.17   Driver Version: 525.105.17   CUDA Version: 12.0     |\n",
            "|-------------------------------+----------------------+----------------------+\n",
            "| GPU  Name        Persistence-M| Bus-Id        Disp.A | Volatile Uncorr. ECC |\n",
            "| Fan  Temp  Perf  Pwr:Usage/Cap|         Memory-Usage | GPU-Util  Compute M. |\n",
            "|                               |                      |               MIG M. |\n",
            "|===============================+======================+======================|\n",
            "|   0  NVIDIA A100-SXM...  Off  | 00000000:00:04.0 Off |                    0 |\n",
            "| N/A   32C    P0    46W / 400W |      0MiB / 40960MiB |      0%      Default |\n",
            "|                               |                      |             Disabled |\n",
            "+-------------------------------+----------------------+----------------------+\n",
            "                                                                               \n",
            "+-----------------------------------------------------------------------------+\n",
            "| Processes:                                                                  |\n",
            "|  GPU   GI   CI        PID   Type   Process name                  GPU Memory |\n",
            "|        ID   ID                                                   Usage      |\n",
            "|=============================================================================|\n",
            "|  No running processes found                                                 |\n",
            "+-----------------------------------------------------------------------------+\n",
            "Reading package lists... Done\n",
            "Building dependency tree... Done\n",
            "Reading state information... Done\n",
            "The following additional packages will be installed:\n",
            "  libaria2-0 libc-ares2\n",
            "The following NEW packages will be installed:\n",
            "  aria2 libaria2-0 libc-ares2\n",
            "0 upgraded, 3 newly installed, 0 to remove and 15 not upgraded.\n",
            "Need to get 1,513 kB of archives.\n",
            "After this operation, 5,441 kB of additional disk space will be used.\n",
            "Get:1 http://archive.ubuntu.com/ubuntu jammy-updates/main amd64 libc-ares2 amd64 1.18.1-1ubuntu0.22.04.2 [45.0 kB]\n",
            "Get:2 http://archive.ubuntu.com/ubuntu jammy/universe amd64 libaria2-0 amd64 1.36.0-1 [1,086 kB]\n",
            "Get:3 http://archive.ubuntu.com/ubuntu jammy/universe amd64 aria2 amd64 1.36.0-1 [381 kB]\n",
            "Fetched 1,513 kB in 1s (1,786 kB/s)\n",
            "Selecting previously unselected package libc-ares2:amd64.\n",
            "(Reading database ... 120500 files and directories currently installed.)\n",
            "Preparing to unpack .../libc-ares2_1.18.1-1ubuntu0.22.04.2_amd64.deb ...\n",
            "Unpacking libc-ares2:amd64 (1.18.1-1ubuntu0.22.04.2) ...\n",
            "Selecting previously unselected package libaria2-0:amd64.\n",
            "Preparing to unpack .../libaria2-0_1.36.0-1_amd64.deb ...\n",
            "Unpacking libaria2-0:amd64 (1.36.0-1) ...\n",
            "Selecting previously unselected package aria2.\n",
            "Preparing to unpack .../aria2_1.36.0-1_amd64.deb ...\n",
            "Unpacking aria2 (1.36.0-1) ...\n",
            "Setting up libc-ares2:amd64 (1.18.1-1ubuntu0.22.04.2) ...\n",
            "Setting up libaria2-0:amd64 (1.36.0-1) ...\n",
            "Setting up aria2 (1.36.0-1) ...\n",
            "Processing triggers for man-db (2.10.2-1) ...\n",
            "Processing triggers for libc-bin (2.35-0ubuntu3.1) ...\n"
          ]
        }
      ],
      "source": [
        "!nvidia-smi\n",
        "!apt install aria2"
      ]
    },
    {
      "cell_type": "markdown",
      "source": [
        "Download Stable Diffusion version 1.5.1"
      ],
      "metadata": {
        "id": "2t9s_HgVWhjr"
      }
    },
    {
      "cell_type": "code",
      "source": [
        "# clone stable diffusion web ui\n",
        "!git clone -b v1.5.1 https://github.com/AUTOMATIC1111/stable-diffusion-webui\n",
        "# move dir\n",
        "%cd /content/stable-diffusion-webui"
      ],
      "metadata": {
        "id": "Dgkiw1MfWfQP"
      },
      "execution_count": null,
      "outputs": []
    },
    {
      "cell_type": "markdown",
      "source": [
        "Download Base Model: sd_xl_base_1.0.safetensors"
      ],
      "metadata": {
        "id": "6IZhgTZbe7dg"
      }
    },
    {
      "cell_type": "code",
      "source": [
        "!aria2c \\\n",
        "  -d /content/stable-diffusion-webui/models/Stable-diffusion \\\n",
        "  -o sd_xl_base_1.0.safetensors \\\n",
        "  -x 2 \\\n",
        "  https://huggingface.co/stabilityai/stable-diffusion-xl-base-1.0/resolve/main/sd_xl_base_1.0.safetensors"
      ],
      "metadata": {
        "id": "HODynqM3e4D8"
      },
      "execution_count": null,
      "outputs": []
    },
    {
      "cell_type": "markdown",
      "source": [
        "Download Base Model: ANIMAGINE XL"
      ],
      "metadata": {
        "id": "llHPM0v4HwOk"
      }
    },
    {
      "cell_type": "code",
      "source": [
        "!aria2c \\\n",
        "  -d /content/stable-diffusion-webui/models/Stable-diffusion \\\n",
        "  -o animagine-xl.safetensors \\\n",
        "  -x 2 \\\n",
        "  https://huggingface.co/Linaqruf/animagine-xl/resolve/main/animagine-xl.safetensors"
      ],
      "metadata": {
        "id": "Tjf5N8CKHvTd"
      },
      "execution_count": null,
      "outputs": []
    },
    {
      "cell_type": "markdown",
      "source": [
        "Download refiner: sd_xl_refiner_1.0.safetensors"
      ],
      "metadata": {
        "id": "kGYAO-C5rH_K"
      }
    },
    {
      "cell_type": "code",
      "source": [
        "!aria2c \\\n",
        "  -d /content/stable-diffusion-webui/models/Stable-diffusion \\\n",
        "  -o sd_xl_refiner_1.0.safetensors \\\n",
        "  -x 2 \\\n",
        "  https://huggingface.co/stabilityai/stable-diffusion-xl-refiner-1.0/resolve/main/sd_xl_refiner_1.0.safetensors"
      ],
      "metadata": {
        "id": "MtwdrtC1rMqO"
      },
      "execution_count": null,
      "outputs": []
    },
    {
      "cell_type": "markdown",
      "source": [
        "Download VAE"
      ],
      "metadata": {
        "id": "6q6hjXkTe9Lv"
      }
    },
    {
      "cell_type": "code",
      "source": [
        "!aria2c \\\n",
        "  -d /content/stable-diffusion-webui/models/VAE \\\n",
        "  -o sdxl_vae.safetensors \\\n",
        "  -x 2 \\\n",
        "  https://huggingface.co/stabilityai/stable-diffusion-xl-refiner-1.0/resolve/main/sd_xl_refiner_1.0.safetensors"
      ],
      "metadata": {
        "id": "CpLl0xlhe--A"
      },
      "execution_count": null,
      "outputs": []
    },
    {
      "cell_type": "markdown",
      "source": [
        "## 使い方\n",
        "\n",
        "- Checkpoint：「sd_xl_base_1.0.safetensors」を選択\n",
        "- VAE：「sdxl_vae.safetensors」を選択\n",
        "- サンプリング方法：「DPM++ 2M SDE Karras」など好きなものを選択（ただしDDIMなど一部のサンプリング方法は使えないようなので注意）\n",
        "\n",
        "## Refiner モデルの使い方\n",
        "\n",
        "現状素直には使えないので工夫する必要がある\n",
        "\n",
        "- 一度baseモデルで画像を生成する\n",
        "- 生成した画像をimg2imgに転送する\n",
        "- モデルをrefinerに切り替える\n",
        "- ノイズ除去強度を0.3程度にしてimg2imgで画像を生成する\n",
        "\n",
        "## 使い方の参考資料\n",
        "\n",
        "[https://kurokumasoft.com/2023/07/27/stable-diffusion-xl/](https://kurokumasoft.com/2023/07/27/stable-diffusion-xl/)"
      ],
      "metadata": {
        "id": "ue2btX40MgYa"
      }
    },
    {
      "cell_type": "markdown",
      "source": [
        "RUN WebUI"
      ],
      "metadata": {
        "id": "TQ5bAj8af4kw"
      }
    },
    {
      "cell_type": "code",
      "source": [
        "!COMMANDLINE_ARGS=\"--share --disable-safe-unpickle --no-half-vae --xformers --enable-insecure-extension --gradio-queue\" python launch.py"
      ],
      "metadata": {
        "id": "9ne_B8WJf4Am"
      },
      "execution_count": null,
      "outputs": []
    }
  ]
}